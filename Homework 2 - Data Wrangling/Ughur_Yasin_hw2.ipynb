{
  "nbformat": 4,
  "nbformat_minor": 0,
  "metadata": {
    "colab": {
      "name": "Ughur_Yasin_hw2.ipynb",
      "provenance": [],
      "collapsed_sections": []
    },
    "kernelspec": {
      "display_name": "Python 3",
      "name": "python3"
    }
  },
  "cells": [
    {
      "cell_type": "markdown",
      "metadata": {
        "id": "JD9gUM7WW8iT"
      },
      "source": [
        "# Homework 2 - Data Wrangling\n",
        "\n",
        "\n",
        "*In this homework, you are going to work on a real-world dataset and perform some data transformations. We suggest you start the homework early.*\n",
        "\n",
        "**Submission Instructions**\n",
        "\n",
        "---\n",
        "It is important that you follow the submission instructions. \n",
        "1. Copy this assignment notebook to your Drive. <font color = 'red'> `File` --> `Save a copy in Drive`</font>. Rename it as <font color = 'green'>`Lastname_Firstname_hw2`</font>.\n",
        "\n",
        "2. Write your solutions in the cells  marked as <font color = 'green'>`# your code`</font>.\n",
        "\n",
        "3. **Do not delete your outputs**. They are essential for the grading. Make sure that cells containing your solutions are executed, and the results are displayed on the notebook.\n",
        "\n",
        "4. When you're done please submit your solutions as an <font color=\"red\">`.ipynb`</font> file. To do so:\n",
        "\n",
        "\n",
        "  a. Click on <font color=\"red\">`File`</font>  at the top left on the Colab screen, then click on <font color = 'red'>`Download .ipynb`</font>.\n",
        "\n",
        "  b. Then submit the downloaded <font color=\"red\">`.ipynb`</font> version of your work on SUCourse.\n",
        "\n",
        "\n",
        "For any question, please use the discussion page on Sucourse.\n",
        "\n",
        "---\n",
        "\n",
        "**Important Note: In this homework, you are not allowed to use Pandas.**"
      ]
    },
    {
      "cell_type": "code",
      "metadata": {
        "id": "pNfT6vfYaJdL",
        "colab": {
          "base_uri": "https://localhost:8080/"
        },
        "outputId": "f6600147-1762-41e8-dd69-5010769a9738"
      },
      "source": [
        "from google.colab import drive\n",
        "drive.mount('./drive', force_remount=True)\n",
        "\n",
        "path_prefix = './drive/My Drive'"
      ],
      "execution_count": 1,
      "outputs": [
        {
          "output_type": "stream",
          "name": "stdout",
          "text": [
            "Mounted at ./drive\n"
          ]
        }
      ]
    },
    {
      "cell_type": "code",
      "metadata": {
        "id": "YBCzbwaj4d5O"
      },
      "source": [
        "import numpy as np\n",
        "import matplotlib.pyplot as plt\n",
        "from os.path import join\n",
        "import re\n",
        "\n",
        "%matplotlib inline"
      ],
      "execution_count": 2,
      "outputs": []
    },
    {
      "cell_type": "markdown",
      "metadata": {
        "id": "CDbkvQOd-JUt"
      },
      "source": [
        "## Social Distancing in Venezuela\n",
        "\n",
        "Governments across the globe imposed various NPIs (nonpharmaceutical interventions) to limit the mobility of masses and foster social distancing to prevent more infections. In Venezuela, a survey is conducted to collect public opionion on the impacts of COVID-19, which also captures the tendency to adhere to social distancing rules in public. You may read more about the data in detail from the link below.\n",
        "\n",
        "https://data.humdata.org/dataset/open_one_time_covid_impact\n",
        "\n",
        "In this homework, you are going to be working on a small sample from the original data, `venezuela_covid_impact_soc_dist.csv`, that focuses on social distancing, in which the following fields are stored:\n",
        "\n",
        "```\n",
        "'submission_id', 'submission_date', 'gender', 'age', 'education', 'how_likely_to_social_distance_when_out_in_public'\n",
        "```\n",
        "\n",
        "The first five rows of the file can be viewed below:\n",
        "\n",
        "```\n",
        "submission_id,submission_date,gender,age,education,how_likely_to_social_distance_when_out_in_public\n",
        "4621122344845312,2020   12 26  ,Male,26 to 35 years old,University or college degree completed,Very likely\n",
        "5073314990260224,<li>2020 12 10</li>,Male,16 to 25 years old,Some secondary school / high school,Neither likely nor unlikely\n",
        "5703966068572160,  2020----11++++ 19,Female,36 to 45 years old,Some university or college,Very likely\n",
        "5782300156755968,2020   12 07  ,Male,16 to 25 years old,Secondary/high school,Unlikely\n",
        "\n",
        "```\n",
        "\n",
        "** **Do not forget to add the shared file 'venezuela_covid_impact_soc_dist.csv' to your own drive.** **"
      ]
    },
    {
      "cell_type": "markdown",
      "metadata": {
        "id": "6hlYX4icW1U9"
      },
      "source": [
        "### Q1 - Read the Dataset\n",
        "\n",
        "In the provided dataset, entries are separated by commas. Read and store the file as a 2d numpy array in which columns capture the corresponding fields.\n",
        "\n",
        "- Read the given file into a numpy array.\n",
        "- At the end, print the number of rows and columns.\n",
        "\n",
        "```\n",
        "Number of rows: [...], columns: [...]\n",
        "```\n",
        "\n",
        "*Hint: Do not forget to skip the first line (the header).*"
      ]
    },
    {
      "cell_type": "code",
      "metadata": {
        "colab": {
          "base_uri": "https://localhost:8080/"
        },
        "id": "fApp4vZf7rXv",
        "outputId": "870c6c8b-1e68-4398-fa2e-ae66f14ed89f"
      },
      "source": [
        "# your code\n",
        "\n",
        "from os.path import join\n",
        "path_prefix = \"./drive/MyDrive/2021-2022 FALL/CS 210/Homework 2\"\n",
        "filename = \"venezuela_covid_impact_soc_dist.csv\"\n",
        "\n",
        "def getFileAsList(path_prefix, filename):\n",
        "  with open(join(path_prefix, filename), 'r') as f:\n",
        "    return f.read().splitlines()[1:]\n",
        "\n",
        "def listTo2dArray(listOfStrings):\n",
        "  for rowIdx in range(len(listOfStrings)):\n",
        "    listOfStrings[rowIdx] = listOfStrings[rowIdx].split(\",\")\n",
        "  \n",
        "  ndarray = np.array(listOfStrings)\n",
        "  return ndarray\n",
        "\n",
        "def printShape(ndarray):\n",
        "  print(\"Number of rows:\", ndarray.shape[0], \"columns:\", ndarray.shape[1])\n",
        "\n",
        "rowData = getFileAsList(path_prefix, filename)\n",
        "twoDarray = listTo2dArray(rowData)\n",
        "printShape(twoDarray)"
      ],
      "execution_count": 3,
      "outputs": [
        {
          "output_type": "stream",
          "name": "stdout",
          "text": [
            "Number of rows: 7341 columns: 6\n"
          ]
        }
      ]
    },
    {
      "cell_type": "markdown",
      "metadata": {
        "id": "5hZw2gobH0Fy"
      },
      "source": [
        "### Q2 - Cleaning Date Values\n",
        "\n",
        "During the data collection process, most of the date values were registered with *non-numeric* rubbish characters between the date elements due to a glitch in the system. Some of the examples can be seen below where %Y represents years (e.g. 2021, 2020), %m month as a zero-padded decimal number (e.g. 07, 08) and %d day of the month as a zero-padded decimal number (e.g. 01, 03).\n",
        "\n",
        "```\n",
        "'%Y   %m %d', \n",
        "'  %Y----%m++++ %d', \n",
        "'<li>%Y %m %d</li>', \n",
        "'%Y /||\\ %m %d  ', \n",
        "'<<%Y  %m >> %d'\n",
        "```\n",
        "\n",
        "- You may assume that the order of date elements is always the same in the raw data: %Y %m %d.\n",
        "- Extract the actual date entries from the data. We expect you to use regular expressions for this part.\n",
        "- Rearrange the date values as **'%d-%m-%Y'** in the data (separate them with hypen -).\n",
        "- At the end, print the first three instances of the resulting dates as a list.\n",
        "\n",
        "```\n",
        "['26-12-2020' '10-12-2020' '19-11-2020']\n",
        "```"
      ]
    },
    {
      "cell_type": "code",
      "metadata": {
        "colab": {
          "base_uri": "https://localhost:8080/"
        },
        "id": "qRJ3r8-vcp3S",
        "outputId": "835872b3-4deb-4a17-a581-7eb38d3535c8"
      },
      "source": [
        "# your code\n",
        "\n",
        "import re, datetime\n",
        "# s1 = \"2020   12 26  \"\n",
        "# s2 = \"<li>2020 12 10</li>\"\n",
        "# s3 = \"  2020----11++++ 19\"\n",
        "# s4 = \"2020   12 07  \"\n",
        "# 2020 12 26\n",
        "# 2020 12 10\n",
        "# 2020 11 19\n",
        "# 2020 12 07\n",
        "\n",
        "def clean_data(twoDarray):\n",
        "  regex_pattern = '\\D*(?P<year>\\d{4})\\D*(?P<month>\\d{2})\\D*(?P<day>\\d{2})\\D*'\n",
        "  for rowIdx in range(len(twoDarray)):\n",
        "    match = re.match(regex_pattern, twoDarray[rowIdx][1])\n",
        "    newDataString = match.group(\"day\") + \"-\" + match.group(\"month\") + \"-\" + match.group(\"year\")\n",
        "    twoDarray[rowIdx][1] = newDataString\n",
        "  return twoDarray\n",
        "\n",
        "def printFirstNelementsDates(array, count):\n",
        "  resultData = []\n",
        "  for i in range(count):\n",
        "    resultData.append(array[i][1])\n",
        "  return resultData\n",
        "\n",
        "\n",
        "twoDarray = clean_data(twoDarray)\n",
        "print(printFirstNelementsDates(twoDarray, 3))"
      ],
      "execution_count": 4,
      "outputs": [
        {
          "output_type": "stream",
          "name": "stdout",
          "text": [
            "['26-12-2020', '10-12-2020', '19-11-2020']\n"
          ]
        }
      ]
    },
    {
      "cell_type": "markdown",
      "metadata": {
        "id": "WkVsm6IHq1Z_"
      },
      "source": [
        "### Q3 - Drop Duplicate Rows\n",
        "\n",
        "As mentioned above, some problems took place during the data collection process and we are suspecting a case of data duplication. In fact, it turns out that there are rows with duplicates in the data. An excerpt from the file can be seen below:\n",
        "\n",
        "```\n",
        "5907953602527232,01-08-2021,Not Available,Not Available,Not Available,Not available,Not Available,Agree,Very likely\n",
        "5907953602527232,01-08-2021,Not Available,Not Available,Not Available,Not available,Not Available,Agree,Very likely\n",
        "5520514392260608,11-16-2020,Female,36 to 45 years old,\"I can afford food, but nothing else\",Secondary school/ high school completed,I am unemployed,Agree,Very likely\n",
        "```\n",
        "\n",
        "- Remove the duplicate rows from the array so that only unique entries are left.\n",
        "- At the end, print the total number of rows in the data after the duplicate removal.\n",
        "\n",
        "```\n",
        "Number of rows after duplicate removal: [...]\n",
        "```"
      ]
    },
    {
      "cell_type": "code",
      "metadata": {
        "colab": {
          "base_uri": "https://localhost:8080/"
        },
        "id": "Il2yjtDyq7Rv",
        "outputId": "345a1f49-c9ab-4ecc-ed4c-aef95d498c74"
      },
      "source": [
        "# your code\n",
        "\n",
        "def duplicateSameRows(ndArray):\n",
        "  uniques = np.unique(ndArray, axis=0)\n",
        "  return uniques\n",
        "\n",
        "def printRowCount(ndArray):\n",
        "  print(\"Number of rows after duplicate removal:\", ndArray.shape[0])\n",
        "\n",
        "twoDarray = duplicateSameRows(twoDarray)\n",
        "printRowCount(twoDarray)"
      ],
      "execution_count": 5,
      "outputs": [
        {
          "output_type": "stream",
          "name": "stdout",
          "text": [
            "Number of rows after duplicate removal: 7042\n"
          ]
        }
      ]
    },
    {
      "cell_type": "markdown",
      "metadata": {
        "id": "Cv9dk7AefEyd"
      },
      "source": [
        "### Q4 - Number of Entries per Month\n",
        "\n",
        "The users took the survey between November 2020 and January 2021. Display the total number of submissions per each month.\n",
        "\n",
        "- Calculate the number of entries registered in each month.\n",
        "- Display the result as a bar chart in which the bars are sorted wrt count values.\n",
        " \n",
        "![](https://i.ibb.co/5Fsv0Kb/m.png)\n",
        "\n",
        " *Hint: The dates are stored in a pre-defined format (day-month-year) after Q2.*"
      ]
    },
    {
      "cell_type": "code",
      "metadata": {
        "colab": {
          "base_uri": "https://localhost:8080/",
          "height": 350
        },
        "id": "yDeZWy0vfJBl",
        "outputId": "929bff2a-03da-4a37-89d2-25f074d303e2"
      },
      "source": [
        "# your code\n",
        "import matplotlib.pyplot as plt\n",
        "%matplotlib inline\n",
        "\n",
        "def getBarKeysAndValues(twoDarray):\n",
        "  dates = {}\n",
        "  for rowIdx in range(len(twoDarray)):\n",
        "    date = twoDarray[rowIdx][1].split(\"-\")\n",
        "    dateGroup = date[2] + \"-\" + date[1]\n",
        "    if dateGroup in dates:\n",
        "      dates[dateGroup] = dates[dateGroup] + 1\n",
        "    else:\n",
        "      dates[dateGroup] = 1\n",
        "  dates = dict( sorted(dates.items(), key=lambda x: x[0], reverse=True))\n",
        "  return [list(dates.keys()), list(dates.values())]\n",
        "\n",
        "\n",
        "def plotBarChart(barDatas):\n",
        "  values = barDatas[1]\n",
        "  categories = barDatas[0]\n",
        "  plt.figure(figsize=(12,5))\n",
        "  plt.barh(categories, values)\n",
        "\n",
        "  for value, cat in zip(values, categories):\n",
        "    plt.text(value, cat, f\"{value}\", verticalalignment=\"center\", fontsize=8)\n",
        "\n",
        "  plt.xlabel(\"# of Records\")\n",
        "  plt.title(\"Number of Entries per Month\")\n",
        "\n",
        "  plt.show()\n",
        "\n",
        "barDatas = getBarKeysAndValues(twoDarray)\n",
        "plotBarChart(barDatas)"
      ],
      "execution_count": 6,
      "outputs": [
        {
          "output_type": "display_data",
          "data": {
            "image/png": "[encoded data removed]",
            "text/plain": [
              "<Figure size 864x360 with 1 Axes>"
            ]
          },
          "metadata": {
            "needs_background": "light"
          }
        }
      ]
    },
    {
      "cell_type": "markdown",
      "metadata": {
        "id": "3vUUznH1m2hK"
      },
      "source": [
        "### Q5 - Transforming the Employment Status Column\n",
        "\n",
        "In the survey, the users were asked to provide their education level. Since it was an optional question, some left it empty or prefered not to answer. For the first case, such responses were recored as `Not available`, while the latter as `Prefer not to answer`.\n",
        "\n",
        "In addition, some test takers provided the same answer with slightly different words. For instance, to indicate high school some wrote 'Secondary school/ high school completed', while others simply put 'High school'. To eliminate the inconsistency, we need to replace such entries with a coherent choice. In the dictionary below, keys correspond to the entries that need to be replaced by their associated value.\n",
        "\n",
        "- Replace the given education categories with the provided list.\n",
        "- Remove the rows with `Not available` or `Prefer not to answer` responses.\n",
        "- Finally, print the resulting number of rows and unique education categories .\n",
        "\n",
        "```\n",
        "Number of rows: [...]\n",
        "['High school' 'Post graduate' 'Primary school' 'Technical school' 'University']\n",
        "```"
      ]
    },
    {
      "cell_type": "code",
      "metadata": {
        "colab": {
          "base_uri": "https://localhost:8080/"
        },
        "id": "XeyXFjMym6j1",
        "outputId": "bc2780f1-c638-4773-b93b-8f09f7a8fc14"
      },
      "source": [
        "adj_edu = {\n",
        "    'Secondary school/ high school completed': 'High school',\n",
        "    'Secondary/high school': 'High school',\n",
        "    'Some secondary school / high school': 'High school',\n",
        "    'University or college degree completed': 'University',\n",
        "    'Some university or college': 'University',\n",
        "    'College or university': 'University',\n",
        "    'Technical school diploma or degree completed': 'Technical school',\n",
        "    'Some technical education (e.g polytechnic school)': 'Technical school',\n",
        "    'Post-graduate education': 'Post graduate',\n",
        "    'Some primary education': 'Primary school',\n",
        "    'Primary school completed': 'Primary school'\n",
        "}\n",
        "\n",
        "def replaceDatas(twoDarray):\n",
        "  list_of_array = []\n",
        "  for rowIdx in range(len(twoDarray)):\n",
        "    if twoDarray[rowIdx][4] in adj_edu:\n",
        "      twoDarray[rowIdx][4] = adj_edu[twoDarray[rowIdx][4]]\n",
        "    if twoDarray[rowIdx][4] == 'Not available' or twoDarray[rowIdx][4] == 'Prefer not to answer':\n",
        "      pass\n",
        "    else:\n",
        "      list_of_array.append(twoDarray[rowIdx])\n",
        "  newTwoDarray = np.array(list_of_array)\n",
        "  return newTwoDarray\n",
        "\n",
        "def getUniqueEducationLevels(arrayTwoD):\n",
        "  list_uniques = []\n",
        "  for row in arrayTwoD:\n",
        "    if row[4] not in list_uniques:\n",
        "      list_uniques.append(row[4])\n",
        "  return list_uniques\n",
        "\n",
        "twoDarrayNew = replaceDatas(twoDarray)\n",
        "\n",
        "print(\"Number of rows:\", len(twoDarrayNew))\n",
        "print(getUniqueEducationLevels(twoDarrayNew))"
      ],
      "execution_count": 7,
      "outputs": [
        {
          "output_type": "stream",
          "name": "stdout",
          "text": [
            "Number of rows: 6962\n",
            "['University', 'High school', 'Technical school', 'Post graduate', 'Primary school']\n"
          ]
        }
      ]
    },
    {
      "cell_type": "markdown",
      "metadata": {
        "id": "P2PXxdSEuF9e"
      },
      "source": [
        "### Q6 - Social Distancing & Education\n",
        "\n",
        "Lastly, we want to understand the relationship between education and adherence to social distancing. In the `how_likely_to_social_distance_when_out_in_public` column, there are five different replies, ranged between `'Very unlikely'` to `'Very likely'`. Here, we want to calculate the likelihood of getting `'Very likely'` replies conditioned on education status. In particular, you'll find the education category that maximizes this probability.\n",
        "\n",
        "\n",
        "\n",
        "$\\DeclareMathOperator*{\\argmax}{argmax} \\argmax\\limits_{\\small{edu} \\, \\in \\, \\text{Education Category}}\\;P(\\text{Social Distancing}=\\text{'Very likely'}|\\text{Education Category}=\\text{edu})$\n",
        "\n",
        "- For each education category, calculate the conditional probability above.\n",
        "- Get the one that returns the highest. \n",
        "- At the end, print the education category and its probability value.\n",
        "\n",
        "```\n",
        "Post graduate: [...]\n",
        "```"
      ]
    },
    {
      "cell_type": "code",
      "metadata": {
        "colab": {
          "base_uri": "https://localhost:8080/"
        },
        "id": "s3fs58kXuLZM",
        "outputId": "3f72dbc1-958d-4f2c-e9cd-a7e15a34909d"
      },
      "source": [
        "# your solution\n",
        "\n",
        "educationCategory = {}\n",
        "countDictionary = {}\n",
        "for row in twoDarrayNew:\n",
        "  if row[4] in countDictionary:\n",
        "    countDictionary[row[4]] = countDictionary[row[4]] + 1\n",
        "  else:\n",
        "    countDictionary[row[4]] = 1\n",
        "\n",
        "  \n",
        "  if row[5] == \"Very likely\":\n",
        "    if row[4] in educationCategory:\n",
        "      educationCategory[row[4]] = educationCategory[row[4]] + 1\n",
        "    else:\n",
        "      educationCategory[row[4]] = 1\n",
        "\n",
        "educationCategory = dict(sorted(educationCategory.items(), key=lambda x: x[0], reverse=True))\n",
        "countDictionary = dict(sorted(countDictionary.items(), key=lambda x: x[0], reverse=True))\n",
        "\n",
        "newDictValues = {}\n",
        "for category in educationCategory:\n",
        "  newDictValues[category] = educationCategory[category] / countDictionary[category]\n",
        "\n",
        "print(max(newDictValues, key=newDictValues.get), max(newDictValues.values()))"
      ],
      "execution_count": 24,
      "outputs": [
        {
          "output_type": "stream",
          "name": "stdout",
          "text": [
            "Post graduate 0.5345268542199488\n"
          ]
        }
      ]
    }
  ]
}