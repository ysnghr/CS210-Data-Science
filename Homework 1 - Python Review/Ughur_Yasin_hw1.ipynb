{
  "nbformat": 4,
  "nbformat_minor": 0,
  "metadata": {
    "colab": {
      "name": "Ughur_Yasin_hw1.ipynb",
      "provenance": [],
      "collapsed_sections": []
    },
    "kernelspec": {
      "name": "python3",
      "display_name": "Python 3"
    }
  },
  "cells": [
    {
      "cell_type": "markdown",
      "metadata": {
        "id": "JD9gUM7WW8iT"
      },
      "source": [
        "# Homework 1 - Practicing Python\n",
        "\n",
        "\n",
        "*In the first homework, you are going to work on a set of Python exercises.*\n",
        "\n",
        "**Submission Instructions**\n",
        "\n",
        "---\n",
        "It is important that you follow the submission instructions. \n",
        "1. Copy this assignment notebook to your Drive. <font color = 'red'> `File` --> `Save a copy in Drive`</font>. Rename it as <font color = 'green'>`Lastname_Firstname_hw1`</font>.\n",
        "\n",
        "2. Write your solutions in the cells  marked <font color = 'green'>`# your code`</font>.\n",
        "\n",
        "3. Do not delete your outputs. They are essential for the grading. Make sure that cells containing your solutions are executed, and the results are displayed on the notebook.\n",
        "\n",
        "4. When you're done please submit your solutions as an <font color=\"red\">`.ipynb`</font> file. To do so:\n",
        "\n",
        "\n",
        "  a. Click on <font color=\"red\">`File`</font>  at the top left on the Colab screen, then click on <font color = 'red'>`Download .ipynb`</font>.\n",
        "\n",
        "  b. Then submit the downloaded <font color=\"red\">`.ipynb`</font> version of your work on SUCourse.\n",
        "\n",
        "\n",
        "For any question, you may send an email to the TAs and LAs.\n",
        "\n",
        "---\n",
        "\n",
        "**Important Note:**   \n",
        "In this homework, you do not need to use any libraries than the built-in ones. Hence, you are not allowed to use any libraries, other than the [`pprint`](https://docs.python.org/3/library/pprint.html) library to produce better looking outputs. If you have doubt on what to use what not to use please ask your question in the SuCourse Homework Q&A forum."
      ]
    },
    {
      "cell_type": "markdown",
      "metadata": {
        "id": "rYfw-eaiBOBJ"
      },
      "source": [
        "## 15 points - Q1: Find the Office Hour, Given the TA\n",
        "\n",
        "In the cell below, you have three lists containing the TA names and their day of office hour in the same order.\n",
        "\n",
        "Here, your goal is to write a fuction named `TA_day` that will return the day and hour of a particular TA. E.g.,\n",
        "\n",
        "```py\n",
        ">>> TA_day(TA_name='Ozgur Can Seckin')\n",
        "Tuesday, 17:40-18:30\n",
        "```\n",
        "\n",
        "After defining your function as such, please find the day and hour for **Mutlu Soruklu**"
      ]
    },
    {
      "cell_type": "code",
      "metadata": {
        "id": "_RCO6nIyEpv1"
      },
      "source": [
        "TA_names = ['Ege Alpay', 'Hasan Alp Boz', 'Mutlu Soruklu', 'Ozgur Can Seckin']\n",
        "office_days = ['Friday', 'Tuesday', 'Monday', 'Tuesday']\n",
        "office_hours = ['18:40 - 19:30', '9:40-10:30', '17:40 - 18:30', '17:40 - 18:30']"
      ],
      "execution_count": 1,
      "outputs": []
    },
    {
      "cell_type": "code",
      "metadata": {
        "id": "VsigiNj3FzgF",
        "colab": {
          "base_uri": "https://localhost:8080/",
          "height": 35
        },
        "outputId": "caad2643-4c92-4444-e019-9df9e93d5f4c"
      },
      "source": [
        "def TA_day(TA_name):\n",
        "  idx = TA_names.index(TA_name)\n",
        "  return office_days[idx] + \", \" + office_hours[idx]\n",
        "\n",
        "TA_day(\"Mutlu Soruklu\")"
      ],
      "execution_count": 2,
      "outputs": [
        {
          "output_type": "execute_result",
          "data": {
            "application/vnd.google.colaboratory.intrinsic+json": {
              "type": "string"
            },
            "text/plain": [
              "'Monday, 17:40 - 18:30'"
            ]
          },
          "metadata": {},
          "execution_count": 2
        }
      ]
    },
    {
      "cell_type": "markdown",
      "metadata": {
        "id": "DwskSV1dAeoR"
      },
      "source": [
        "## 30 points - Q2: Inflation Rates\n",
        "\n",
        "Inflation rates measured by consumer price index for 38 distinct countries and OECD average were taken from:\n",
        "https://data.oecd.org/price/inflation-cpi.htm\n",
        "\n",
        "Each line stores the country name, year and related inflation rate, seperated by a **semicolon**.\n",
        "\n",
        "In total, we have 195 lines where the inflation rates are given for years between 2016 and 2020.\n",
        "\n",
        "\n",
        "<img src=\"https://i.ibb.co/bBzypPS/Q2-OECD.png\"></img>\n",
        "\n",
        "*Do not forget to add the shared file and then mount to your drive. Otherwise, you won't be able to read the file. If you do not know how, please go back to Week 1 videos.*\n",
        "\n",
        "**Attention: You may want to transform the string to numbers by using float() function**"
      ]
    },
    {
      "cell_type": "markdown",
      "metadata": {
        "id": "EJdIEenmj6W_"
      },
      "source": [
        "### 15 points - **Part A**\n",
        "In this part, you should - by using the inflation_data.csv file under assignment folder:\n",
        "1. Find the **mean inflation rates** for Turkey and Germany (denoted as TUR and DEU in the data, respectively) between years 2016 and 2020 and print the results.\n",
        "2. Calculate the **difference between means** and print the result.\n",
        "\n",
        "![](https://i.ibb.co/L0JTk8V/Q2-OECD.png)"
      ]
    },
    {
      "cell_type": "code",
      "metadata": {
        "id": "tbaryKClTz5Z",
        "colab": {
          "base_uri": "https://localhost:8080/"
        },
        "outputId": "d2e5d687-f3f0-40ce-c327-48d9537b1b42"
      },
      "source": [
        "from google.colab import drive\n",
        "drive.mount(\"./drive/\", force_remount=True)"
      ],
      "execution_count": 3,
      "outputs": [
        {
          "output_type": "stream",
          "name": "stdout",
          "text": [
            "Mounted at ./drive/\n"
          ]
        }
      ]
    },
    {
      "cell_type": "code",
      "metadata": {
        "id": "NnRDeA3_SPi0",
        "colab": {
          "base_uri": "https://localhost:8080/"
        },
        "outputId": "0344ffa2-fe2c-42d4-a2eb-1a979da3d3eb"
      },
      "source": [
        "# your code\n",
        "\n",
        "from os.path import join\n",
        "path_prefix = \"./drive/MyDrive/2021-2022 FALL/CS 210/Homework 1\"\n",
        "filename = \"inflation_data.csv\"\n",
        "\n",
        "def getFileAsList(path_prefix, filename):\n",
        "  with open(join(path_prefix, filename), 'r') as f:\n",
        "    return f.read().splitlines()\n",
        "  \n",
        "def getMeanOfCountries(dataList, countries, startDate, endDate):\n",
        "  meanByCountryTotal = [0] * len(countries)\n",
        "  countByCountry = [0] * len(countries)\n",
        "  for data in dataList:\n",
        "    data = data.split(\";\")\n",
        "    name, year, rate = data[0], int(data[1]), float(data[2].replace(',','.'))\n",
        "    if year >= startDate and year <= endDate and (name in countries):\n",
        "      meanByCountryTotal[countries.index(name)] += rate\n",
        "      countByCountry[countries.index(name)] += 1\n",
        "  means = [meanByCountryTotal[idx] / countByCountry[idx] for idx in range(len(meanByCountryTotal))]\n",
        "  print(\"Mean for\", countries[0], \":\", means[0])\n",
        "  print(\"Mean for\", countries[1], \":\", means[1])\n",
        "  print(\"Difference between means:\",abs(means[1] - means[0]))\n",
        "\n",
        "\n",
        "dataList = getFileAsList(path_prefix, filename)\n",
        "getMeanOfCountries(dataList, ['TUR', 'DEU'], 2016, 2020)\n"
      ],
      "execution_count": 4,
      "outputs": [
        {
          "output_type": "stream",
          "name": "stdout",
          "text": [
            "Mean for TUR : 12.5415368\n",
            "Mean for DEU : 1.1371541\n",
            "Difference between means: 11.4043827\n"
          ]
        }
      ]
    },
    {
      "cell_type": "markdown",
      "metadata": {
        "id": "pIBUWMoXSSwr"
      },
      "source": [
        "### 15 points - **Part B**\n",
        "\n",
        "Find the country with the minimum mean inflation rate (note that it might be negative!)\n",
        "\n",
        "![](https://i.ibb.co/hBsTWvs/Q2-OECD-2.png)"
      ]
    },
    {
      "cell_type": "code",
      "metadata": {
        "id": "laBFy2HkSXpC",
        "colab": {
          "base_uri": "https://localhost:8080/",
          "height": 35
        },
        "outputId": "2043a9f2-dff8-4b24-adf9-81eef9e0dc54"
      },
      "source": [
        "# your code\n",
        "\n",
        "def getAllMeans(dataList):\n",
        "  countries = {} # value pair [sum, count] \n",
        "  for data in dataList:\n",
        "    data = data.split(\";\")\n",
        "    name, year, rate = data[0], int(data[1]), float(data[2].replace(',','.'))\n",
        "    if name not in countries:\n",
        "      countries[name] = [rate, 1]\n",
        "    else:\n",
        "      oldData = countries[name]\n",
        "      countries[name] = [oldData[0] + rate, oldData[1] + 1]\n",
        "  for country in countries:\n",
        "    countries[country] = countries[country][0] / countries[country][1] \n",
        "  return countries\n",
        "\n",
        "def getMinimumMeanInfRate(countries):\n",
        "  return min(countries, key=countries.get)\n",
        "\n",
        "dataList = getFileAsList(path_prefix, filename)\n",
        "allMeans = getAllMeans(dataList)\n",
        "getMinimumMeanInfRate(allMeans)\n"
      ],
      "execution_count": 5,
      "outputs": [
        {
          "output_type": "execute_result",
          "data": {
            "application/vnd.google.colaboratory.intrinsic+json": {
              "type": "string"
            },
            "text/plain": [
              "'GRC'"
            ]
          },
          "metadata": {},
          "execution_count": 5
        }
      ]
    },
    {
      "cell_type": "markdown",
      "metadata": {
        "id": "srIzF7eJYUAW"
      },
      "source": [
        "## 25 points - Q3: Transposing a List of Lists\n",
        "\n",
        "List/array reshaping is one of the most fundamental operations in data manipulation. In the figure below, you see a 4x3 dimensional list of lists (a list that contains lists) named `arr` that has integers from 1 to 12. We can take the transpose of this 4x3 list and transform it into a 3x4 list. \n",
        "\n",
        "![](https://i.ibb.co/K7CXTZX/Q3-transposed.png)\n",
        "\n",
        "By referencing the figure above, write a function named `transpose` which will take the transpose of the desired matrix. At the end, it should return the resulting matrix.\n",
        "\n",
        "```py\n",
        ">>> arr = [[1, 2, 3, 4], [5, 6, 7, 8], [9, 10, 11, 12]]\n",
        ">>> transpose(arr)\n",
        "[[1, 5, 9], [2, 6, 10], [3, 7, 11], [4, 8, 12]]\n",
        "```\n",
        "\n",
        "If the given list of lists does not represent a proper matrix (e.g., [[1,2], [3,4,5]] then, it should return \"Not a proper matrix\"\n",
        "\n",
        "```py\n",
        ">>> arr = [[1, 2, 3], [5, 6]]\n",
        ">>> transpose(arr)\n",
        "\"Not a proper matrix\"\n",
        "```"
      ]
    },
    {
      "cell_type": "code",
      "metadata": {
        "id": "iZgKbmvbZM61",
        "colab": {
          "base_uri": "https://localhost:8080/"
        },
        "outputId": "c157d7e1-9098-4867-d1c4-258afffe0ef5"
      },
      "source": [
        "arr = [[1, 2, 3, 4], [5, 6, 7, 8], [9, 10, 11, 12]]\n",
        "\n",
        "def isTransposible(arr):\n",
        "  if len(arr) < 1:\n",
        "    return False\n",
        "\n",
        "  rowLength = len(arr[0])\n",
        "  \n",
        "  for row in arr:\n",
        "    if len(row) != rowLength:\n",
        "      return False\n",
        "\n",
        "  return True\n",
        "    \n",
        "\n",
        "def transpose(arr):\n",
        "  if isTransposible(arr):\n",
        "    transposed = []\n",
        "    rowLength = len(arr[0])\n",
        "\n",
        "    for rowElem in range(rowLength):\n",
        "      rowDatas = []\n",
        "      for row in arr:\n",
        "        rowDatas.append(row[rowElem])\n",
        "      transposed.append(rowDatas)\n",
        "    return transposed\n",
        "  else:\n",
        "    print(\"Not a proper matrix\")\n",
        "    return []\n",
        "transpose(arr)"
      ],
      "execution_count": 6,
      "outputs": [
        {
          "output_type": "execute_result",
          "data": {
            "text/plain": [
              "[[1, 5, 9], [2, 6, 10], [3, 7, 11], [4, 8, 12]]"
            ]
          },
          "metadata": {},
          "execution_count": 6
        }
      ]
    },
    {
      "cell_type": "markdown",
      "metadata": {
        "id": "_0FzjI4Li18J"
      },
      "source": [
        "## 30 points - Q4: Most Frequent Bigram in a File\n",
        "\n",
        "`A pair of consecutive written words is called a bigram. For instance, if we were to find the bigrams in the sentence \"The quick brown fox jumps over the lazy dog.\", we would get [\"The quick\", \"quick brown\", \"brown fox\", ... \"the lazy\", \"lazy dog.\"]`\n",
        "\n",
        "In the assignment folder, you have a file named `best_song.txt` which stores the lyrics to the best song ever written by anyone:\n",
        "https://i.ibb.co/cb4B8sy/best-song.jpg\n",
        "\n",
        "Write a function named `most_used_bigram` which will take a file name as its single parameter and then reads and returns the **most frequently used bigram** and **how many times it has occurred** in the text.\n",
        "\n",
        "```py\n",
        ">>> most_used, times_used = most_used_bigram(\"best_song.txt\")\n",
        "```\n",
        "\n",
        "*Do not forget to add the shared file and then mount to your drive. Otherwise, you won't be able to read the file.*"
      ]
    },
    {
      "cell_type": "code",
      "metadata": {
        "id": "DEQOU3viZAfj",
        "colab": {
          "base_uri": "https://localhost:8080/"
        },
        "outputId": "b67d1224-f409-4b7c-f330-903de008333a"
      },
      "source": [
        "# Your code\n",
        "def most_used_bigram(filename):\n",
        "  path_prefix = \"./drive/MyDrive/2021-2022 FALL/CS 210/Homework 1\"\n",
        "  data = getFileAsList(path_prefix, filename)\n",
        "  bigramDict = {}\n",
        "  for sentence in data:\n",
        "    sentence = sentence.split()\n",
        "    startIdx = 0\n",
        "    for r in range(2, len(sentence) + 1):\n",
        "      exBiagram = \" \"\n",
        "      bigram = exBiagram.join(sentence[startIdx:r])\n",
        "      if bigram in bigramDict:\n",
        "        bigramDict[bigram] += 1\n",
        "      else:\n",
        "        bigramDict[bigram] = 1\n",
        "      startIdx = r - 1\n",
        "  most_used_key = max(bigramDict, key=bigramDict.get)\n",
        "  return [most_used_key, bigramDict[most_used_key]]\n",
        "  \n",
        "most_used_bigram(\"best_song.txt\")"
      ],
      "execution_count": 7,
      "outputs": [
        {
          "output_type": "execute_result",
          "data": {
            "text/plain": [
              "['Never gonna', 36]"
            ]
          },
          "metadata": {},
          "execution_count": 7
        }
      ]
    }
  ]
}